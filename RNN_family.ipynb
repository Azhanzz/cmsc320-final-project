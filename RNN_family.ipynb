{
 "cells": [
  {
   "cell_type": "code",
   "execution_count": null,
   "metadata": {
    "colab": {
     "base_uri": "https://localhost:8080/"
    },
    "id": "ei_driLatyWV",
    "outputId": "440d67ec-1bcf-4889-ace6-af8c71d99594"
   },
   "outputs": [
    {
     "name": "stdout",
     "output_type": "stream",
     "text": [
      "{'a': 0, 'b': 1, 'c': 2, 'd': 3, 'e': 4, 'f': 5, 'g': 6, 'h': 7, 'i': 8, 'j': 9, 'k': 10, 'l': 11, 'm': 12, 'n': 13, 'o': 14, 'p': 15, 'q': 34, 'r': 17, 's': 18, 't': 19, 'u': 20, 'v': 21, 'w': 22, 'x': 28, 'y': 29, 'z': 25, 'tʂ': 26, 'ʤ': 27, 'ŋ': 36, 'ʕ': 31, 'ħ': 32, 'ʃ': 33, 'ము': 35, 'ü': 37, 'ö': 38, 'ş': 39, 'ğ': 40, 'ű': 41}\n",
      "torch.Size([5, 1, 42])\n"
     ]
    }
   ],
   "source": [
    "# RNN\n",
    "from sklearn.preprocessing import OneHotEncoder\n",
    "from sklearn.feature_extraction.text import CountVectorizer\n",
    "from sklearn.model_selection import train_test_split, cross_val_score, StratifiedKFold\n",
    "from sklearn.tree import DecisionTreeClassifier\n",
    "from sklearn.neighbors import KNeighborsClassifier\n",
    "from sklearn.ensemble import RandomForestClassifier\n",
    "from sklearn.decomposition import PCA\n",
    "\n",
    "from gensim.models import Word2Vec\n",
    "import gensim\n",
    "\n",
    "from sklearn.preprocessing import LabelEncoder\n",
    "from torch.utils.data import DataLoader, TensorDataset\n",
    "from torch.autograd import Variable\n",
    "\n",
    "import torch\n",
    "import torch.nn as nn\n",
    "import torch.nn.functional as F\n",
    "import torch.optim as optim\n",
    "\n",
    "\n",
    "class LinguisticFamilies:\n",
    "    def __init__(self):\n",
    "        self.families = {\n",
    "            \"Indo-European\": {\n",
    "                \"languages\": [\"English\", \"Spanish\", \"Hindi\", \"Russian\"],\n",
    "                \"common_characters\": [\"a\", \"b\", \"c\", \"d\", \"e\", \"f\", \"g\", \"h\", \"i\", \"j\", \"k\", \"l\", \"m\", \"n\", \"o\", \"p\", \"q\", \"r\", \"s\", \"t\", \"u\", \"v\", \"w\", \"x\", \"y\", \"z\"]  # Example phonemes\n",
    "            },\n",
    "            \"Sino-Tibetan\": {\n",
    "                \"languages\": [\"Mandarin\", \"Cantonese\", \"Burmese\"],\n",
    "                \"common_characters\": [\"tʂ\", \"ʤ\", \"x\", \"y\", \"ŋ\"]\n",
    "            },\n",
    "            \"Afro-Asiatic\": {\n",
    "                \"languages\": [\"Arabic\", \"Hebrew\", \"Amharic\"],\n",
    "                \"common_characters\": [\"ʕ\", \"ħ\", \"ʃ\", \"q\"]\n",
    "            },\n",
    "            \"Dravidian\": {\n",
    "                \"languages\": [\"Tamil\", \"Telugu\", \"Kannada\"],\n",
    "                \"common_characters\": [\"ము\",]\n",
    "            },\n",
    "            \"Austronesian\": {\n",
    "                \"languages\": [\"Tagalog\", \"Malay\", \"Samoan\"],\n",
    "                \"common_characters\": [\"ŋ\"]\n",
    "            },\n",
    "            \"Turkic\": {\n",
    "                \"languages\": [\"Turkish\", \"Azerbaijani\", \"Uzbek\"],\n",
    "                \"common_characters\": [\"ü\", \"ö\", \"ş\", \"ğ\"]\n",
    "            },\n",
    "            \"Uralic\": {\n",
    "                \"languages\": [],\n",
    "                \"common_characters\": [\"ű\"]\n",
    "            }\n",
    "        }\n",
    "\n",
    "    def get_families(self):\n",
    "        \"\"\"Return the linguistic families.\"\"\"\n",
    "        obj = {}\n",
    "        index = 0\n",
    "        for x in list(self.families.keys()):\n",
    "          for y in self.families[x][\"common_characters\"]:\n",
    "            obj[y] = index\n",
    "            index += 1\n",
    "        return obj\n",
    "\n",
    "all_letters = LinguisticFamilies().get_families()\n",
    "print(all_letters)\n",
    "n_letters = 42\n",
    "\n",
    "\n",
    "def letterToIndex(letter):\n",
    "    return all_letters[letter] if letter in all_letters else -1\n",
    "\n",
    "# Turn a line into a <line_length x 1 x n_letters>,\n",
    "# or an array of one-hot letter vectors\n",
    "def lineToTensor(line):\n",
    "    tensor = torch.zeros(len(line), 1, n_letters)\n",
    "    for li, letter in enumerate(line):\n",
    "        tensor[li][0][letterToIndex(letter)] = 1\n",
    "    return tensor\n",
    "\n",
    "print(lineToTensor('jones').size())"
   ]
  },
  {
   "cell_type": "code",
   "execution_count": 4,
   "metadata": {
    "id": "e5KA_9EcwoX6"
   },
   "outputs": [],
   "source": [
    "import numpy as np # linear algebra\n",
    "import pandas as pd # data processing, CSV file I/O (e.g. pd.read_csv)\n",
    "from matplotlib import pyplot as plt\n",
    "\n",
    "etymology = pd.read_csv('etymology.csv')\n",
    "#df = etymology[etymology['lang'] == 'English']\n",
    "#engl = df.drop(['lang', 'term_id', 'related_term_id', 'position', 'group_tag', 'parent_tag', 'parent_position'], axis = 1)"
   ]
  },
  {
   "cell_type": "code",
   "execution_count": 6,
   "metadata": {
    "id": "cyRF2FMh7Smr"
   },
   "outputs": [],
   "source": [
    "def combineLangs(word):\n",
    "  word = word.lower()\n",
    "  if \"latin\" in word:\n",
    "    return \"latin\"\n",
    "  elif \"greek\" in word:\n",
    "    return \"greek\"\n",
    "  elif \"french\" in word:\n",
    "    return \"french\"\n",
    "  elif \"german\" in word:\n",
    "    return \"german\"\n",
    "  elif \"italian\" in word:\n",
    "    return \"italian\"\n",
    "  elif \"swedish\" in word:\n",
    "    return \"swedish\"\n",
    "  elif \"irish\" in word:\n",
    "    return \"irish\"\n",
    "  elif \"english\" in word:\n",
    "    return \"english\"\n",
    "  elif \"dutch\" in word:\n",
    "    return \"dutch\"\n",
    "  elif \"turkish\" in word:\n",
    "    return \"turkish\"\n",
    "  elif \"norwegian\" in word:\n",
    "    return \"norwegian\"\n",
    "  elif \"frisian\" in word:\n",
    "    return \"frisian\"\n",
    "  elif \"spanish\" in word:\n",
    "    return \"spanish\"\n",
    "  elif \"chinese\" in word:\n",
    "    return \"chinese\"\n",
    "  else:\n",
    "    return word\n",
    "\n",
    "indo_european = [\n",
    "    'italian', 'spanish', 'german', 'latin', 'old portuguese',\n",
    "    'english', 'serbo-croatian', 'french', 'old czech', 'irish',\n",
    "    'dutch', 'sanskrit', 'greek', 'gujarati', 'polish', 'welsh',\n",
    "    'russian', 'romanian', 'czech', 'vietnamese', 'old saxon',\n",
    "    'swedish', 'old armenian', 'classical nahuatl', 'yiddish',\n",
    "    'classical syriac', 'albanian', 'bengali', 'armenian', 'latvian',\n",
    "    'norwegian', 'sorbian', 'scots', 'celtic', 'classical persian',\n",
    "    'hindi', 'finnish', 'old georgian', 'georgian', 'tamil',\n",
    "    'turkish', 'bulgarian', 'ukrainian', 'icelandic'\n",
    "]\n",
    "\n",
    "# Turkic languages\n",
    "turkic = [\n",
    "    'common turkic', 'bashkir', 'turkish', 'uzbek', 'kyrgyz',\n",
    "    'tatar', 'crimean tatar', 'azerbaijani', 'kazakh', 'chuvash',\n",
    "    'northern kurdish', 'southern altai', 'uyghur'\n",
    "]\n",
    "\n",
    "# Uralic languages\n",
    "uralic = [\n",
    "    'hungarian', 'finnish', 'estonian', 'karelian', 'evenki',\n",
    "    'komi', 'mari', 'moksha', 'udmurt', 'votic'\n",
    "]\n",
    "\n",
    "# Afro-Asiatic languages\n",
    "afro_asiatic = [\n",
    "    'arabic', 'amharic', 'hebrew', 'berber', 'coptic'\n",
    "]\n",
    "\n",
    "# Sino-Tibetan languages\n",
    "sino_tibetan = [\n",
    "    'mandarin', 'tibetan', 'burmese', 'yue', 'hakkanese'\n",
    "]\n",
    "\n",
    "# Austronesian languages\n",
    "austronesian = [\n",
    "    'tagalog', 'javanese', 'malay', 'samoan', 'hawaiian'\n",
    "]\n",
    "\n",
    "# Dravidian languages\n",
    "dravidian = [\n",
    "    'kannada', 'telugu', 'tamil', 'malayalam'\n",
    "]\n",
    "\n",
    "# Semitic languages\n",
    "semitic = [\n",
    "    'arabic', 'hebrew', 'amarna', 'akkadian', 'ge', 'ez'\n",
    "]\n",
    "\n",
    "# Celtic languages\n",
    "celtic = [\n",
    "    'irish', 'welsh', 'scots', 'breton', 'cornish'\n",
    "]\n",
    "\n",
    "# Other languages\n",
    "other_languages = [\n",
    "    'old norse', 'georgian', 'faroese', 'sumerian', 'khmer',\n",
    "    'maltese', 'gujarati', 'assamese', 'sindhi', 'bambara',\n",
    "    'japanese', 'votic', 'tagalog', 'navajo', 'manchu',\n",
    "    'classical hebrew', 'tuvan', 'zhuang', 'quechua'\n",
    "]\n",
    "\n",
    "# Dutch languages and their dialects\n",
    "dutch_languages = [\n",
    "    'dutch', 'frisian', 'limburgish', 'flemish'\n",
    "]\n",
    "\n",
    "def getLanguageFamily(lang):\n",
    "  if lang in indo_european:\n",
    "    return \"indo_european\"\n",
    "  if lang in turkic:\n",
    "    return \"turkic\"\n",
    "  if lang in uralic:\n",
    "    return \"uralic\"\n",
    "  if lang in afro_asiatic:\n",
    "    return \"afro-asiatic\"\n",
    "  if lang in sino_tibetan:\n",
    "    return \"sino-tibetan\"\n",
    "  if lang in austronesian:\n",
    "    return \"austronesian\"\n",
    "  if lang in dravidian:\n",
    "    return \"dravidian\"\n",
    "  if lang in semitic:\n",
    "    return \"semitic\"\n",
    "\n",
    "  return \"unknown\"\n"
   ]
  },
  {
   "cell_type": "code",
   "execution_count": 12,
   "metadata": {
    "colab": {
     "base_uri": "https://localhost:8080/"
    },
    "id": "xpMJ27bkvBhK",
    "outputId": "a4df1e9b-ecae-4c68-9b76-ee8b29a6b075"
   },
   "outputs": [
    {
     "name": "stderr",
     "output_type": "stream",
     "text": [
      "<ipython-input-12-fc276650f739>:31: SettingWithCopyWarning: \n",
      "A value is trying to be set on a copy of a slice from a DataFrame.\n",
      "Try using .loc[row_indexer,col_indexer] = value instead\n",
      "\n",
      "See the caveats in the documentation: https://pandas.pydata.org/pandas-docs/stable/user_guide/indexing.html#returning-a-view-versus-a-copy\n",
      "  limited[\"term\"] = limited[\"term\"].str.lower()\n"
     ]
    },
    {
     "name": "stdout",
     "output_type": "stream",
     "text": [
      "Most frequent regions ['indo_european' 'unknown' 'austronesian' 'afro-asiatic' 'uralic' 'turkic'\n",
      " 'dravidian' 'semitic' 'sino-tibetan']\n",
      "labels ['austronesian' 'dravidian' 'indo_european' 'semitic' 'turkic' 'uralic']\n",
      "total rows after processing 64704\n"
     ]
    }
   ],
   "source": [
    "# preprocessing\n",
    "\n",
    "import numpy as np # linear algebra\n",
    "import pandas as pd # data processing, CSV file I/O (e.g. pd.read_csv)\n",
    "from matplotlib import pyplot as plt\n",
    "\n",
    "# getting a sample since it takes really long with the entire set\n",
    "#limited = engl #.sample(60000)\n",
    "\n",
    "# these languages use similar alphabets to English\n",
    "#limited = etymology#[(etymology['lang'] == 'English') | (etymology['lang'] == 'German') | (etymology['lang'] == 'Spanish') | (etymology['lang'] == 'Italian')]\n",
    "limited = etymology.drop(['lang', 'term_id', 'related_term_id', 'position', 'group_tag', 'parent_tag', 'parent_position'], axis = 1)\n",
    "#limited = limited.sample(100000)\n",
    "limited = limited.dropna()\n",
    "\n",
    "# combine languages (ie ancient greek -> greek, old english -> english)\n",
    "limited[\"related_lang\"] = limited[\"related_lang\"].apply(combineLangs)\n",
    "\n",
    "# select higher frequency languages\n",
    "'''\n",
    "frequency = limited['related_lang'].value_counts()\n",
    "limited['frequency'] = limited['related_lang'].map(frequency)\n",
    "limited.loc[limited['frequency'] < 10, 'related_lang'] = 'uncommon'\n",
    "print(\"All languages\", limited[\"related_lang\"].unique())\n",
    "'''\n",
    "\n",
    "# filter words that are short\n",
    "limited = limited[limited[\"term\"].str.len() > 3]\n",
    "\n",
    "# make everything lowercase\n",
    "limited[\"term\"] = limited[\"term\"].str.lower()\n",
    "\n",
    "# reduce each term to it's most frequent related_lang\n",
    "'''\n",
    "print(\"before\", len(limited))\n",
    "count_df = limited.groupby([\"term\", \"related_lang\"]).size().reset_index(name=\"count\")\n",
    "most_common = count_df.loc[count_df.groupby('term')['count'].idxmax()]\n",
    "limited = pd.merge(limited, most_common[['term', 'related_lang']], on=['term', 'related_lang'])\n",
    "print(\"after\", len(limited))\n",
    "'''\n",
    "\n",
    "# get the region for each language\n",
    "limited[\"family\"] = limited[\"related_lang\"].apply(lambda x: getLanguageFamily(x))\n",
    "print(\"Most frequent regions\", limited[\"family\"].unique())\n",
    "\n",
    "# drop sino-tibetan and afro-asiatic (these ones mess everything up)\n",
    "limited = limited[(limited[\"family\"] != \"sino-tibetan\") & (limited[\"family\"] != \"afro-asiatic\")]\n",
    "\n",
    "# remove unknown regions\n",
    "limited = limited[limited[\"family\"] != \"unknown\"]\n",
    "\n",
    "# select from a specific reltype?\n",
    "limited = limited[limited[\"reltype\"] == \"etymologically_related_to\"]\n",
    "\n",
    "\n",
    "# get labels\n",
    "from sklearn.preprocessing import LabelEncoder\n",
    "encoder = LabelEncoder()\n",
    "labels = encoder.fit_transform(limited['family'])\n",
    "print(\"labels\", encoder.classes_)\n",
    "n_categories = len(encoder.classes_)\n",
    "all_categories = encoder.classes_.tolist()\n",
    "\n",
    "print(\"total rows after processing\", len(limited))\n",
    "\n",
    "#X_train, X_test, y_train, y_test = train_test_split(result_df, labels, test_size = test_size, random_state = seed)\n",
    "\n"
   ]
  },
  {
   "cell_type": "code",
   "execution_count": 13,
   "metadata": {
    "id": "Q-q3I7igu33Z"
   },
   "outputs": [],
   "source": [
    "class RNN(nn.Module):\n",
    "    def __init__(self, input_size, hidden_size, output_size):\n",
    "        super(RNN, self).__init__()\n",
    "\n",
    "        self.hidden_size = hidden_size\n",
    "\n",
    "        self.i2h = nn.Linear(input_size, hidden_size)\n",
    "        self.h2h = nn.Linear(hidden_size, hidden_size)\n",
    "        self.h2o = nn.Linear(hidden_size, output_size)\n",
    "        self.softmax = nn.LogSoftmax(dim=1)\n",
    "\n",
    "    def forward(self, input, hidden):\n",
    "        hidden = F.tanh(self.i2h(input) + self.h2h(hidden))\n",
    "        output = self.h2o(hidden)\n",
    "        output = self.softmax(output)\n",
    "        return output, hidden\n",
    "\n",
    "    def initHidden(self):\n",
    "        return torch.zeros(1, self.hidden_size)\n",
    "\n",
    "n_hidden = 128\n",
    "rnn = RNN(n_letters, n_hidden, n_categories)"
   ]
  },
  {
   "cell_type": "code",
   "execution_count": 14,
   "metadata": {
    "colab": {
     "base_uri": "https://localhost:8080/"
    },
    "id": "eJcuehLZvtGq",
    "outputId": "82b5a557-c5e8-43d7-f0d8-a75f8a6c52fe"
   },
   "outputs": [
    {
     "name": "stdout",
     "output_type": "stream",
     "text": [
      "tensor([[-1.9059, -1.8923, -1.7494, -1.7600, -1.6867, -1.7748]],\n",
      "       grad_fn=<LogSoftmaxBackward0>)\n",
      "('turkic', 4)\n"
     ]
    }
   ],
   "source": [
    "def categoryFromOutput(output):\n",
    "    top_n, top_i = output.topk(1)\n",
    "    category_i = top_i[0].item()\n",
    "    return all_categories[category_i], category_i\n",
    "\n",
    "input = lineToTensor('Albert')\n",
    "hidden = torch.zeros(1, n_hidden)\n",
    "\n",
    "output, next_hidden = rnn(input[0], hidden)\n",
    "print(output)\n",
    "\n",
    "print(categoryFromOutput(output))\n"
   ]
  },
  {
   "cell_type": "code",
   "execution_count": 15,
   "metadata": {
    "id": "8-_yaPUVxZNI"
   },
   "outputs": [],
   "source": [
    "criterion = nn.NLLLoss()\n",
    "\n",
    "learning_rate = 0.005 # If you set this too high, it might explode. If too low, it might not learn\n",
    "\n",
    "def train(category_tensor, line_tensor):\n",
    "    hidden = rnn.initHidden()\n",
    "\n",
    "    rnn.zero_grad()\n",
    "\n",
    "    for i in range(line_tensor.size()[0]):\n",
    "        output, hidden = rnn(line_tensor[i], hidden)\n",
    "\n",
    "    loss = criterion(output, category_tensor)\n",
    "    loss.backward()\n",
    "\n",
    "    # Add parameters' gradients to their values, multiplied by learning rate\n",
    "    for p in rnn.parameters():\n",
    "        p.data.add_(p.grad.data, alpha=-learning_rate)\n",
    "\n",
    "    return output, loss.item()"
   ]
  },
  {
   "cell_type": "code",
   "execution_count": 16,
   "metadata": {
    "colab": {
     "base_uri": "https://localhost:8080/"
    },
    "id": "PV2cMZpSxneg",
    "outputId": "d96d1d96-1e71-4041-d8be-b1a15d201b65"
   },
   "outputs": [
    {
     "name": "stdout",
     "output_type": "stream",
     "text": [
      "related term region = semitic / word = akkad\n",
      "related term region = turkic / word = yardım\n",
      "related term region = indo_european / word = militant\n",
      "related term region = indo_european / word = hector\n",
      "related term region = indo_european / word = float\n",
      "related term region = austronesian / word = abaca\n",
      "related term region = semitic / word = حمار\n",
      "related term region = uralic / word = moist\n",
      "related term region = turkic / word = слон\n",
      "related term region = dravidian / word = wootz\n"
     ]
    }
   ],
   "source": [
    "import random\n",
    "\n",
    "def randomChoice(l):\n",
    "    return l[random.randint(0, len(l) - 1)]\n",
    "\n",
    "# giving europe a higher chance to be selected\n",
    "better_categories = [*all_categories, \"indo_european\"]\n",
    "\n",
    "families = {}\n",
    "for family in all_categories:\n",
    "  families[family] = limited[limited[\"family\"] == family][\"term\"].values\n",
    "\n",
    "def randomTrainingExample():\n",
    "    category = randomChoice(better_categories)\n",
    "    line = randomChoice(families[category])\n",
    "    category_tensor = torch.tensor([all_categories.index(category)], dtype=torch.long)\n",
    "    line_tensor = lineToTensor(line)\n",
    "    return category, line, category_tensor, line_tensor\n",
    "\n",
    "for i in range(10):\n",
    "    category, line, category_tensor, line_tensor = randomTrainingExample()\n",
    "    print('related term region =', category, '/ word =', line)"
   ]
  },
  {
   "cell_type": "code",
   "execution_count": 17,
   "metadata": {
    "colab": {
     "base_uri": "https://localhost:8080/"
    },
    "id": "Fe8LCqyDxesJ",
    "outputId": "3bddf9d9-6989-4108-8dea-9fe11b0189c3"
   },
   "outputs": [
    {
     "name": "stdout",
     "output_type": "stream",
     "text": [
      "0m 0s 500/10000 loss: 1.7327516973018646\n",
      "0m 1s 1000/10000 loss: 1.653469674706459\n",
      "0m 3s 1500/10000 loss: 1.5422072619199754\n",
      "0m 4s 2000/10000 loss: 1.4112543315291404\n",
      "0m 6s 2500/10000 loss: 1.2407349519878625\n",
      "0m 7s 3000/10000 loss: 1.12073039239645\n",
      "0m 8s 3500/10000 loss: 1.0346968780383468\n",
      "0m 9s 4000/10000 loss: 0.8956852015927435\n",
      "0m 10s 4500/10000 loss: 0.7954414750784635\n",
      "0m 11s 5000/10000 loss: 0.7378169211409986\n",
      "0m 12s 5500/10000 loss: 0.678326078813523\n",
      "0m 13s 6000/10000 loss: 0.694397941655945\n",
      "0m 14s 6500/10000 loss: 0.6461013793409802\n",
      "0m 14s 7000/10000 loss: 0.636681987336371\n",
      "0m 15s 7500/10000 loss: 0.5560013128533028\n",
      "0m 16s 8000/10000 loss: 0.54988943658676\n",
      "0m 17s 8500/10000 loss: 0.571364569134661\n",
      "0m 19s 9000/10000 loss: 0.45770097081840505\n",
      "0m 20s 9500/10000 loss: 0.5526220292731887\n",
      "0m 21s 10000/10000 loss: 0.527004341706168\n"
     ]
    }
   ],
   "source": [
    "import time\n",
    "import math\n",
    "\n",
    "n_iters = 10000\n",
    "print_every = 500\n",
    "plot_every = 500\n",
    "\n",
    "current_loss = 0\n",
    "all_losses = []\n",
    "\n",
    "def timeSince(since):\n",
    "    now = time.time()\n",
    "    s = now - since\n",
    "    m = math.floor(s / 60)\n",
    "    s -= m * 60\n",
    "    return '%dm %ds' % (m, s)\n",
    "\n",
    "start = time.time()\n",
    "\n",
    "for iter in range(1, n_iters + 1):\n",
    "    category, line, category_tensor, line_tensor = randomTrainingExample()\n",
    "    output, loss = train(category_tensor, line_tensor)\n",
    "    current_loss += loss\n",
    "\n",
    "    # Print ``iter`` number, loss, name and guess\n",
    "    if iter % print_every == 0:\n",
    "        guess, guess_i = categoryFromOutput(output)\n",
    "        #correct = '✓' if guess == category else '✗ (%s)' % category\n",
    "        #print('%d %d%% (%s) %.4f %s / %s %s' % (iter, iter / n_iters * 100, timeSince(start), loss, line, guess, correct))\n",
    "\n",
    "    # Add current loss avg to list of losses\n",
    "    if iter % plot_every == 0:\n",
    "        all_losses.append(current_loss / plot_every)\n",
    "        print(timeSince(start), str(iter) + \"/\" + str(n_iters), \"loss:\", current_loss / plot_every)\n",
    "        current_loss = 0"
   ]
  },
  {
   "cell_type": "code",
   "execution_count": 18,
   "metadata": {
    "colab": {
     "base_uri": "https://localhost:8080/",
     "height": 447
    },
    "id": "qP-mUf-lzUPm",
    "outputId": "e0b5510d-aa55-48f3-a9f1-ac2f1672a1fc"
   },
   "outputs": [
    {
     "data": {
      "text/plain": [
       "[<matplotlib.lines.Line2D at 0x7faeb68c6470>]"
      ]
     },
     "execution_count": 18,
     "metadata": {},
     "output_type": "execute_result"
    },
    {
     "data": {
      "image/png": "[encoded data removed]",
      "text/plain": [
       "<Figure size 640x480 with 1 Axes>"
      ]
     },
     "metadata": {},
     "output_type": "display_data"
    }
   ],
   "source": [
    "import matplotlib.pyplot as plt\n",
    "import matplotlib.ticker as ticker\n",
    "\n",
    "plt.figure()\n",
    "plt.plot(all_losses)"
   ]
  },
  {
   "cell_type": "code",
   "execution_count": 24,
   "metadata": {
    "colab": {
     "base_uri": "https://localhost:8080/"
    },
    "id": "yYo2Vxg30dyn",
    "outputId": "626aa63b-91e8-440c-8c43-1a31b1918f58"
   },
   "outputs": [
    {
     "name": "stdout",
     "output_type": "stream",
     "text": [
      "correct = 392 / 500\n",
      "Total words for austronesian 109\n",
      "Total words for dravidian 12\n",
      "Total words for indo_european 64337\n",
      "Total words for semitic 18\n",
      "Total words for turkic 16\n",
      "Total words for uralic 212\n"
     ]
    }
   ],
   "source": [
    "confusion = torch.zeros(n_categories, n_categories)\n",
    "n_confusion = 500\n",
    "\n",
    "# Just return an output given a line\n",
    "def evaluate(line_tensor):\n",
    "    hidden = rnn.initHidden()\n",
    "\n",
    "    for i in range(line_tensor.size()[0]):\n",
    "        output, hidden = rnn(line_tensor[i], hidden)\n",
    "\n",
    "    return output\n",
    "\n",
    "total = 0\n",
    "correct = 0\n",
    "# Go through a bunch of examples and record which are correctly guessed\n",
    "for i in range(n_confusion):\n",
    "    category, line, category_tensor, line_tensor = randomTrainingExample()\n",
    "    output = evaluate(line_tensor)\n",
    "    guess, guess_i = categoryFromOutput(output)\n",
    "    category_i = all_categories.index(category)\n",
    "    total += 1\n",
    "    correct += 1 if guess == category else 0\n",
    "    confusion[category_i][guess_i] += 1\n",
    "\n",
    "print(\"correct =\", correct, \"/\", total)\n",
    "\n",
    "for family in all_categories:\n",
    "  print(\"Total words for\", family, len(limited[limited[\"family\"] == family]))\n",
    "\n",
    "# not really a lot of data for anything besides indo_european, the results are probably misleading"
   ]
  },
  {
   "cell_type": "code",
   "execution_count": 25,
   "metadata": {
    "colab": {
     "base_uri": "https://localhost:8080/",
     "height": 596
    },
    "id": "x9bwDToH1aN_",
    "outputId": "d42aae7e-e8be-4a74-e9cd-9ba23946f584"
   },
   "outputs": [
    {
     "name": "stderr",
     "output_type": "stream",
     "text": [
      "<ipython-input-25-bf99e0e87afd>:12: UserWarning: set_ticklabels() should only be used with a fixed number of ticks, i.e. after set_ticks() or using a FixedLocator.\n",
      "  ax.set_xticklabels([''] + all_categories, rotation=90)\n",
      "<ipython-input-25-bf99e0e87afd>:13: UserWarning: set_ticklabels() should only be used with a fixed number of ticks, i.e. after set_ticks() or using a FixedLocator.\n",
      "  ax.set_yticklabels([''] + all_categories)\n"
     ]
    },
    {
     "data": {
      "image/png": "[encoded data removed]",
      "text/plain": [
       "<Figure size 640x480 with 2 Axes>"
      ]
     },
     "metadata": {},
     "output_type": "display_data"
    }
   ],
   "source": [
    "# Normalize by dividing every row by its sum\n",
    "for i in range(n_categories):\n",
    "    confusion[i] = confusion[i] / confusion[i].sum()\n",
    "\n",
    "# Set up plot\n",
    "fig = plt.figure()\n",
    "ax = fig.add_subplot(111)\n",
    "cax = ax.matshow(confusion.numpy())\n",
    "fig.colorbar(cax)\n",
    "\n",
    "# Set up axes\n",
    "ax.set_xticklabels([''] + all_categories, rotation=90)\n",
    "ax.set_yticklabels([''] + all_categories)\n",
    "\n",
    "# Force label at every tick\n",
    "ax.xaxis.set_major_locator(ticker.MultipleLocator(1))\n",
    "ax.yaxis.set_major_locator(ticker.MultipleLocator(1))\n",
    "\n",
    "# sphinx_gallery_thumbnail_number = 2\n",
    "plt.show()"
   ]
  }
 ],
 "metadata": {
  "colab": {
   "provenance": []
  },
  "kaggle": {
   "accelerator": "none",
   "dataSources": [
    {
     "datasetId": 2367,
     "sourceId": 3976,
     "sourceType": "datasetVersion"
    },
    {
     "datasetId": 2815513,
     "sourceId": 4856880,
     "sourceType": "datasetVersion"
    }
   ],
   "dockerImageVersionId": 30786,
   "isGpuEnabled": false,
   "isInternetEnabled": false,
   "language": "python",
   "sourceType": "notebook"
  },
  "kernelspec": {
   "display_name": "Python 3",
   "language": "python",
   "name": "python3"
  },
  "language_info": {
   "codemirror_mode": {
    "name": "ipython",
    "version": 3
   },
   "file_extension": ".py",
   "mimetype": "text/x-python",
   "name": "python",
   "nbconvert_exporter": "python",
   "pygments_lexer": "ipython3",
   "version": "3.10.14"
  }
 },
 "nbformat": 4,
 "nbformat_minor": 0
}
