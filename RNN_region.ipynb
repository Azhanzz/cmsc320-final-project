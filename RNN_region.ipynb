{
  "cells": [
    {
      "cell_type": "code",
      "execution_count": 5,
      "metadata": {
        "id": "e5KA_9EcwoX6"
      },
      "outputs": [],
      "source": [
        "import numpy as np # linear algebra\n",
        "import pandas as pd # data processing, CSV file I/O (e.g. pd.read_csv)\n",
        "from matplotlib import pyplot as plt\n",
        "\n",
        "\n",
        "etymology = pd.read_csv('etymology.csv')\n",
        "#df = etymology[etymology['lang'] == 'English']\n",
        "#engl = df.drop(['lang', 'term_id', 'related_term_id', 'position', 'group_tag', 'parent_tag', 'parent_position'], axis = 1)"
      ]
    },
    {
      "cell_type": "code",
      "execution_count": 145,
      "metadata": {
        "colab": {
          "base_uri": "https://localhost:8080/"
        },
        "id": "ei_driLatyWV",
        "outputId": "f3f9340c-ef3c-490a-feca-812835adbd22"
      },
      "outputs": [
        {
          "output_type": "stream",
          "name": "stdout",
          "text": [
            "torch.Size([5, 1, 29])\n"
          ]
        }
      ],
      "source": [
        "# RNN\n",
        "from sklearn.preprocessing import OneHotEncoder\n",
        "from sklearn.feature_extraction.text import CountVectorizer\n",
        "from sklearn.model_selection import train_test_split, cross_val_score, StratifiedKFold\n",
        "from sklearn.tree import DecisionTreeClassifier\n",
        "from sklearn.neighbors import KNeighborsClassifier\n",
        "from sklearn.ensemble import RandomForestClassifier\n",
        "from sklearn.decomposition import PCA\n",
        "\n",
        "from gensim.models import Word2Vec\n",
        "import gensim\n",
        "\n",
        "from sklearn.preprocessing import LabelEncoder\n",
        "from torch.utils.data import DataLoader, TensorDataset\n",
        "from torch.autograd import Variable\n",
        "\n",
        "import torch\n",
        "import torch.nn as nn\n",
        "import torch.nn.functional as F\n",
        "import torch.optim as optim\n",
        "\n",
        "all_letters = {\n",
        "    \"a\": 0,\n",
        "    \"b\": 1,\n",
        "    \"c\": 2,\n",
        "    \"d\": 3,\n",
        "    \"e\": 4,\n",
        "    \"f\": 5,\n",
        "    \"g\": 6,\n",
        "    \"h\": 7,\n",
        "    \"i\": 8,\n",
        "    \"j\": 9,\n",
        "    \"k\": 10,\n",
        "    \"l\": 11,\n",
        "    \"m\": 12,\n",
        "    \"n\": 13,\n",
        "    \"o\": 14,\n",
        "    \"p\": 15,\n",
        "    \"q\": 16,\n",
        "    \"r\": 17,\n",
        "    \"s\": 18,\n",
        "    \"t\": 19,\n",
        "    \"u\": 20,\n",
        "    \"v\": 21,\n",
        "    \"w\": 22,\n",
        "    \"x\": 23,\n",
        "    \"y\": 24,\n",
        "    \"z\": 25,\n",
        "    \"à\": 26,\n",
        "    \"ợ\": 27,\n",
        "    \" \": 28\n",
        "}\n",
        "n_letters = 29\n",
        "\n",
        "def letterToIndex(letter):\n",
        "    return all_letters[letter] if letter in all_letters else -1\n",
        "\n",
        "# Turn a line into a <line_length x 1 x n_letters>,\n",
        "# or an array of one-hot letter vectors\n",
        "def lineToTensor(line):\n",
        "    tensor = torch.zeros(len(line), 1, n_letters)\n",
        "    for li, letter in enumerate(line):\n",
        "        tensor[li][0][letterToIndex(letter)] = 1\n",
        "    return tensor\n",
        "\n",
        "print(lineToTensor('jones').size())"
      ]
    },
    {
      "cell_type": "code",
      "source": [
        "def combineLangs(word):\n",
        "  word = word.lower()\n",
        "  if \"latin\" in word:\n",
        "    return \"latin\"\n",
        "  elif \"greek\" in word:\n",
        "    return \"greek\"\n",
        "  elif \"french\" in word:\n",
        "    return \"french\"\n",
        "  elif \"german\" in word:\n",
        "    return \"german\"\n",
        "  elif \"italian\" in word:\n",
        "    return \"italian\"\n",
        "  elif \"swedish\" in word:\n",
        "    return \"swedish\"\n",
        "  elif \"irish\" in word:\n",
        "    return \"irish\"\n",
        "  elif \"english\" in word:\n",
        "    return \"english\"\n",
        "  elif \"dutch\" in word:\n",
        "    return \"dutch\"\n",
        "  elif \"turkish\" in word:\n",
        "    return \"turkish\"\n",
        "  elif \"norwegian\" in word:\n",
        "    return \"norwegian\"\n",
        "  elif \"frisian\" in word:\n",
        "    return \"frisian\"\n",
        "  else:\n",
        "    return word\n",
        "\n",
        "class LinguisticRegions:\n",
        "  def __init__(self):\n",
        "        self.families = {\n",
        "            \"europe_east\": {\n",
        "                \"languages\": [\n",
        "                    \"proto-indo-european\", \"greek\", \"yiddish\", \"polish\", \"russian\", \"czech\", \"albanian\",\n",
        "                    \"ukrainian\", \"armenian\", \"lithuanian\", \"proto-slavic\", \"belariusian\", \"slovene\", \"proto-slavic\"\n",
        "                    \"latvian\", \"slovak\", \"turkish\",\n",
        "                 ],\n",
        "            },\n",
        "            \"europe_west\": {\n",
        "                \"languages\": [\n",
        "                    \"latin\", \"french\", \"irish\", \"anglo-norman\", \"english\", \"german\", \"dutch\", \"scottish gaelic\",\n",
        "                    \"scots\", \"portuguese\", \"spanish\", \"italian\", \"welsh\", \"frankish\", \"proto-celtic\", \"catalan\",\n",
        "                    \"norman\", \"breton\", \"cornish\", \"proto-brythonic\", \"old breton\", \"lombardic\"\n",
        "                ]\n",
        "            },\n",
        "            \"europe_north\": {\n",
        "                \"languages\": [\n",
        "                    \"old norse\", \"swedish\", \"norwegian\", \"danish\", \"icelandic\", \"norwegian\", \"frisian\", \"gothic\",\n",
        "                    \"old saxon\", \"northern sami\"\n",
        "                ]\n",
        "            },\n",
        "            \"asia_east\": {\n",
        "                \"languages\": [\n",
        "                    \"japanese\", \"malay\", \"chinese\", \"korean\", \"mandarin\", \"tagalog\", \"vietnamese\", \"cantonese\",\n",
        "                    \"min nan\", \"mongolian\"\n",
        "                ]\n",
        "            },\n",
        "            \"asia_south\": {\n",
        "                \"languages\": [\n",
        "                    \"sanskrit\", \"urdu\", \"hindi\", \"tamil\", \"thai\", \"bengali\", \"tibetan\", \"indonesian\"\n",
        "                ]\n",
        "            },\n",
        "            \"africa_south\": {\n",
        "                \"languages\": [\n",
        "                    \"afrikaans\", \"zulu\"\n",
        "                ]\n",
        "            },\n",
        "            \"africa_north\": {\n",
        "                \"languages\": [\n",
        "                    \"egyptian\", \"swahili\", \"algerian arabic\",\n",
        "                ]\n",
        "            },\n",
        "            \"middle_east\": {\n",
        "                \"languages\": [\n",
        "                    \"hebrew\", \"arabic\", \"persian\", \"old persian\", \"akkadian\"\n",
        "                ]\n",
        "            },\n",
        "            \"central_america\": {\n",
        "                \"languages\": [\n",
        "                    \"classical nahuatl\", \"nahuatl\"\n",
        "                ]\n",
        "            }\n",
        "        }\n",
        "\n",
        "  def get_families(self):\n",
        "      obj = {}\n",
        "      index = 0\n",
        "      for x in list(self.families.keys()):\n",
        "        for y in self.families[x][\"common_characters\"]:\n",
        "          obj[y] = index\n",
        "          index += 1\n",
        "      return obj\n",
        "\n",
        "# more precise regions\n",
        "def getRegionPrecise(lang):\n",
        "  lang = lang.lower()\n",
        "  for family in lrs.families.keys():\n",
        "    if lang in lrs.families[family][\"languages\"]:\n",
        "      return family\n",
        "\n",
        "  return \"unknown region\"\n",
        "\n",
        "# general regions\n",
        "def getRegionGeneral(lang):\n",
        "  lang = lang.lower()\n",
        "  if lang in lrs.families[\"europe_east\"][\"languages\"] or lang in lrs.families[\"europe_west\"][\"languages\"] or lang in lrs.families[\"europe_north\"][\"languages\"]:\n",
        "    return \"europe\"\n",
        "  elif lang in lrs.families[\"asia_east\"][\"languages\"] or lang in lrs.families[\"asia_south\"][\"languages\"]:\n",
        "    return \"asia\"\n",
        "  elif lang in lrs.families[\"africa_north\"][\"languages\"] or lang in lrs.families[\"africa_south\"][\"languages\"]:\n",
        "    return \"africa\"\n",
        "  elif lang in lrs.families[\"middle_east\"][\"languages\"]:\n",
        "    return \"middle east\"\n",
        "  elif lang in lrs.families[\"central_america\"][\"languages\"]:\n",
        "    return \"central america\"\n",
        "\n",
        "  return \"unknown region\"\n",
        "\n",
        "lrs = LinguisticRegions()"
      ],
      "metadata": {
        "id": "cyRF2FMh7Smr"
      },
      "execution_count": 146,
      "outputs": []
    },
    {
      "cell_type": "code",
      "execution_count": 147,
      "metadata": {
        "colab": {
          "base_uri": "https://localhost:8080/"
        },
        "id": "xpMJ27bkvBhK",
        "outputId": "cfe6a4a5-9c8a-4ef3-c88b-f6e6eae42d67"
      },
      "outputs": [
        {
          "output_type": "stream",
          "name": "stdout",
          "text": [
            "unique words = 493440\n",
            "unique related languages = 330\n",
            "labels ['africa' 'asia' 'central america' 'europe' 'middle east']\n",
            "final data count 136784\n"
          ]
        }
      ],
      "source": [
        "# preprocessing\n",
        "\n",
        "# getting a sample since it takes really long with the entire set\n",
        "#limited = engl #.sample(60000)\n",
        "\n",
        "# these languages use similar alphabets to English\n",
        "limited = etymology[(etymology['lang'] == 'English') | (etymology['lang'] == 'German') | (etymology['lang'] == 'Spanish') | (etymology['lang'] == 'Italian') | (etymology['lang'] == 'Vietnamese') | (etymology['lang'] == 'Indonesian')]\n",
        "limited = limited.drop(['lang', 'term_id', 'related_term_id', 'position', 'group_tag', 'parent_tag', 'parent_position'], axis = 1)\n",
        "limited = limited.dropna()\n",
        "print(\"unique words =\", len(limited[\"term\"].unique()))\n",
        "\n",
        "# combine languages (ie ancient greek -> greek, old english -> english)\n",
        "limited[\"related_lang\"] = limited[\"related_lang\"].apply(combineLangs)\n",
        "\n",
        "# select higher frequency languages\n",
        "frequency = limited['related_lang'].value_counts()\n",
        "limited['frequency'] = limited['related_lang'].map(frequency)\n",
        "limited.loc[limited['frequency'] < 10, 'related_lang'] = 'uncommon'\n",
        "print(\"unique related languages =\", len(limited[\"related_lang\"].unique()))\n",
        "\n",
        "# filter words that are short\n",
        "limited = limited[limited[\"term\"].str.len() > 3]\n",
        "\n",
        "# make everything lowercase\n",
        "limited[\"term\"] = limited[\"term\"].str.lower()\n",
        "\n",
        "# reduce each term to it's most frequent related_lang\n",
        "'''\n",
        "print(\"before\", len(limited))\n",
        "count_df = limited.groupby([\"term\", \"related_lang\"]).size().reset_index(name=\"count\")\n",
        "most_common = count_df.loc[count_df.groupby('term')['count'].idxmax()]\n",
        "limited = pd.merge(limited, most_common[['term', 'related_lang']], on=['term', 'related_lang'])\n",
        "print(\"after\", len(limited))\n",
        "'''\n",
        "\n",
        "# get the region for each language\n",
        "limited[\"region\"] = limited[\"related_lang\"].apply(lambda x: getRegionGeneral(x)) # replace this with getRegionGeneral or getRegionPrecise\n",
        "\n",
        "# remove unknown regions\n",
        "limited = limited[limited[\"region\"] != \"unknown region\"]\n",
        "\n",
        "# select from a specific reltype?\n",
        "limited = limited[limited[\"reltype\"] == \"etymologically_related_to\"]\n",
        "#limited = limited[limited[\"reltype\"] == \"derived_from\"]\n",
        "\n",
        "#print(\"data available after processing =\", len(limited))\n",
        "#limited = limited.sample(100000)\n",
        "\n",
        "# get labels\n",
        "from sklearn.preprocessing import LabelEncoder\n",
        "encoder = LabelEncoder()\n",
        "labels = encoder.fit_transform(limited['region'])\n",
        "print(\"labels\", encoder.classes_)\n",
        "n_categories = len(encoder.classes_)\n",
        "all_categories = encoder.classes_.tolist()\n",
        "\n",
        "print(\"final data count\", len(limited))\n",
        "\n",
        "#X_train, X_test, y_train, y_test = train_test_split(result_df, labels, test_size = test_size, random_state = seed)\n",
        "\n"
      ]
    },
    {
      "cell_type": "code",
      "execution_count": 163,
      "metadata": {
        "id": "Q-q3I7igu33Z"
      },
      "outputs": [],
      "source": [
        "class RNN(nn.Module):\n",
        "    def __init__(self, input_size, hidden_size, output_size):\n",
        "        super(RNN, self).__init__()\n",
        "\n",
        "        self.hidden_size = hidden_size\n",
        "\n",
        "        self.i2h = nn.Linear(input_size, hidden_size)\n",
        "        self.h2h = nn.Linear(hidden_size, hidden_size)\n",
        "        self.h2o = nn.Linear(hidden_size, output_size)\n",
        "        self.softmax = nn.LogSoftmax(dim=1)\n",
        "\n",
        "    def forward(self, input, hidden):\n",
        "        hidden = F.tanh(self.i2h(input) + self.h2h(hidden))\n",
        "        output = self.h2o(hidden)\n",
        "        output = self.softmax(output)\n",
        "        return output, hidden\n",
        "\n",
        "    def initHidden(self):\n",
        "        return torch.zeros(1, self.hidden_size)\n",
        "\n",
        "def categoryFromOutput(output):\n",
        "    top_n, top_i = output.topk(1)\n",
        "    category_i = top_i[0].item()\n",
        "    return all_categories[category_i], category_i\n",
        "\n",
        "n_hidden = 128\n",
        "rnn = RNN(n_letters, n_hidden, n_categories)"
      ]
    },
    {
      "cell_type": "code",
      "execution_count": 164,
      "metadata": {
        "id": "8-_yaPUVxZNI"
      },
      "outputs": [],
      "source": [
        "criterion = nn.NLLLoss()\n",
        "learning_rate = 0.005 # If you set this too high, it might explode. If too low, it might not learn\n",
        "\n",
        "def train(category_tensor, line_tensor):\n",
        "    hidden = rnn.initHidden()\n",
        "\n",
        "    rnn.zero_grad()\n",
        "\n",
        "    for i in range(line_tensor.size()[0]):\n",
        "        output, hidden = rnn(line_tensor[i], hidden)\n",
        "\n",
        "    loss = criterion(output, category_tensor)\n",
        "    loss.backward()\n",
        "\n",
        "    # Add parameters' gradients to their values, multiplied by learning rate\n",
        "    for p in rnn.parameters():\n",
        "        p.data.add_(p.grad.data, alpha=-learning_rate)\n",
        "\n",
        "    return output, loss.item()"
      ]
    },
    {
      "cell_type": "code",
      "execution_count": 165,
      "metadata": {
        "colab": {
          "base_uri": "https://localhost:8080/"
        },
        "id": "PV2cMZpSxneg",
        "outputId": "d1581695-ea04-4abb-c3bc-82de73b30351"
      },
      "outputs": [
        {
          "output_type": "stream",
          "name": "stdout",
          "text": [
            "related term region = central america / word = zapotec\n",
            "related term region = middle east / word = bracha\n",
            "related term region = europe / word = wirepuller\n",
            "related term region = europe / word = under the weather\n",
            "related term region = central america / word = tlaxcala\n",
            "related term region = asia / word = sulk\n",
            "related term region = asia / word = tarka\n",
            "related term region = middle east / word = cipher\n",
            "related term region = africa / word = afterclap\n",
            "related term region = central america / word = paliacate\n"
          ]
        }
      ],
      "source": [
        "import random\n",
        "\n",
        "def randomChoice(l):\n",
        "    return l[random.randint(0, len(l) - 1)]\n",
        "\n",
        "# giving europe a higher chance to be selected\n",
        "better_categories = [*all_categories, \"europe\", \"europe\"]\n",
        "\n",
        "terms = {}\n",
        "for region in all_categories:\n",
        "  terms[region] = limited[limited[\"region\"] == region][\"term\"].values\n",
        "\n",
        "def randomTrainingExample():\n",
        "    category = randomChoice(better_categories)\n",
        "    #line = randomChoice(limited[limited[\"region\"] == category][\"term\"].values)\n",
        "    line = randomChoice(terms[category])\n",
        "    '''\n",
        "    line = limited.sample(1)\n",
        "    category = line[\"region\"].values[0]\n",
        "    term = line[\"term\"].values[0]\n",
        "    '''\n",
        "    category_tensor = torch.tensor([all_categories.index(category)], dtype=torch.long)\n",
        "    line_tensor = lineToTensor(line)\n",
        "    return category, line, category_tensor, line_tensor\n",
        "\n",
        "for i in range(10):\n",
        "    category, line, category_tensor, line_tensor = randomTrainingExample()\n",
        "    print('related term region =', category, '/ word =', line)"
      ]
    },
    {
      "cell_type": "code",
      "execution_count": 166,
      "metadata": {
        "colab": {
          "base_uri": "https://localhost:8080/"
        },
        "id": "Fe8LCqyDxesJ",
        "outputId": "35401145-7e17-4427-ddff-b45772e138a0"
      },
      "outputs": [
        {
          "output_type": "stream",
          "name": "stdout",
          "text": [
            "0m 1s 500/20000 loss: 1.4357597070932389\n",
            "0m 2s 1000/20000 loss: 1.4729035410881042\n",
            "0m 3s 1500/20000 loss: 1.376287968993187\n",
            "0m 4s 2000/20000 loss: 1.3072273831367494\n",
            "0m 5s 2500/20000 loss: 1.2282223174273967\n",
            "0m 6s 3000/20000 loss: 1.2236246595084668\n",
            "0m 8s 3500/20000 loss: 1.119788611203432\n",
            "0m 9s 4000/20000 loss: 1.1298937548771502\n",
            "0m 11s 4500/20000 loss: 1.109079977877438\n",
            "0m 12s 5000/20000 loss: 1.0223575719445943\n",
            "0m 13s 5500/20000 loss: 1.0674387348517775\n",
            "0m 14s 6000/20000 loss: 1.0168003833778203\n",
            "0m 15s 6500/20000 loss: 1.014099778275937\n",
            "0m 16s 7000/20000 loss: 0.9503876793496311\n",
            "0m 17s 7500/20000 loss: 0.9504697736874222\n",
            "0m 18s 8000/20000 loss: 1.0297078153789043\n",
            "0m 19s 8500/20000 loss: 0.9668419149741531\n",
            "0m 20s 9000/20000 loss: 1.000993147071451\n",
            "0m 22s 9500/20000 loss: 0.9393420968577266\n",
            "0m 23s 10000/20000 loss: 0.8598171914629639\n",
            "0m 25s 10500/20000 loss: 0.9069422258082778\n",
            "0m 27s 11000/20000 loss: 0.8631251152129844\n",
            "0m 28s 11500/20000 loss: 0.8886279786741361\n",
            "0m 29s 12000/20000 loss: 0.9254219014570118\n",
            "0m 30s 12500/20000 loss: 0.8951134547255933\n",
            "0m 31s 13000/20000 loss: 0.9017524306047707\n",
            "0m 32s 13500/20000 loss: 0.9165960221514106\n",
            "0m 33s 14000/20000 loss: 0.918368893998675\n",
            "0m 34s 14500/20000 loss: 0.883275103295222\n",
            "0m 35s 15000/20000 loss: 0.891186111737974\n",
            "0m 36s 15500/20000 loss: 0.8787439588587731\n",
            "0m 37s 16000/20000 loss: 0.8931139949783683\n",
            "0m 39s 16500/20000 loss: 0.8480061108395457\n",
            "0m 40s 17000/20000 loss: 0.8965292279981076\n",
            "0m 42s 17500/20000 loss: 0.9088061437401921\n",
            "0m 43s 18000/20000 loss: 0.8442565265931189\n",
            "0m 44s 18500/20000 loss: 0.7914653641488403\n",
            "0m 45s 19000/20000 loss: 0.8135467682210729\n",
            "0m 46s 19500/20000 loss: 0.8678282541045919\n",
            "0m 47s 20000/20000 loss: 0.794761312677525\n"
          ]
        }
      ],
      "source": [
        "import time\n",
        "import math\n",
        "\n",
        "n_iters = 20000\n",
        "print_every = 500\n",
        "plot_every = 500\n",
        "\n",
        "current_loss = 0\n",
        "all_losses = []\n",
        "\n",
        "def timeSince(since):\n",
        "    now = time.time()\n",
        "    s = now - since\n",
        "    m = math.floor(s / 60)\n",
        "    s -= m * 60\n",
        "    return '%dm %ds' % (m, s)\n",
        "\n",
        "start = time.time()\n",
        "\n",
        "for iter in range(1, n_iters + 1):\n",
        "    category, line, category_tensor, line_tensor = randomTrainingExample()\n",
        "    output, loss = train(category_tensor, line_tensor)\n",
        "    current_loss += loss\n",
        "\n",
        "    # Print ``iter`` number, loss, name and guess\n",
        "    if iter % print_every == 0:\n",
        "        #guess, guess_i = categoryFromOutput(output)\n",
        "        print(timeSince(start), str(iter) + \"/\" + str(n_iters), \"loss:\", current_loss / plot_every)\n",
        "        #correct = '✓' if guess == category else '✗ (%s)' % category\n",
        "        #print('%d %d%% (%s) %.4f %s / %s %s' % (iter, iter / n_iters * 100, timeSince(start), loss, line, guess, correct))\n",
        "\n",
        "    # Add current loss avg to list of losses\n",
        "    if iter % plot_every == 0:\n",
        "        all_losses.append(current_loss / plot_every)\n",
        "        current_loss = 0"
      ]
    },
    {
      "cell_type": "code",
      "execution_count": 167,
      "metadata": {
        "colab": {
          "base_uri": "https://localhost:8080/",
          "height": 449
        },
        "id": "qP-mUf-lzUPm",
        "outputId": "ef97f755-d155-42ac-f370-7885627e1a84"
      },
      "outputs": [
        {
          "output_type": "execute_result",
          "data": {
            "text/plain": [
              "[<matplotlib.lines.Line2D at 0x7875bbb71870>]"
            ]
          },
          "metadata": {},
          "execution_count": 167
        },
        {
          "output_type": "display_data",
          "data": {
            "text/plain": [
              "<Figure size 640x480 with 1 Axes>"
            ],
            "image/png": "[encoded data removed]"
          },
          "metadata": {}
        }
      ],
      "source": [
        "import matplotlib.pyplot as plt\n",
        "import matplotlib.ticker as ticker\n",
        "\n",
        "plt.figure()\n",
        "plt.plot(all_losses)"
      ]
    },
    {
      "cell_type": "code",
      "execution_count": 168,
      "metadata": {
        "id": "yYo2Vxg30dyn",
        "colab": {
          "base_uri": "https://localhost:8080/"
        },
        "outputId": "5f257a9d-4ae7-43ba-dc47-462835253819"
      },
      "outputs": [
        {
          "output_type": "stream",
          "name": "stdout",
          "text": [
            "correct = 1359 / 2000\n",
            "Total words africa: 168\n",
            "Total words asia: 3912\n",
            "Total words central america: 275\n",
            "Total words europe: 131227\n",
            "Total words middle east: 1202\n"
          ]
        }
      ],
      "source": [
        "confusion = torch.zeros(n_categories, n_categories)\n",
        "n_confusion = 2000\n",
        "\n",
        "# Just return an output given a line\n",
        "def evaluate(line_tensor):\n",
        "    hidden = rnn.initHidden()\n",
        "\n",
        "    for i in range(line_tensor.size()[0]):\n",
        "        output, hidden = rnn(line_tensor[i], hidden)\n",
        "\n",
        "    return output\n",
        "\n",
        "# Go through a bunch of examples and record which are correctly guessed\n",
        "total = 0\n",
        "correct = 0\n",
        "for i in range(n_confusion):\n",
        "    category, line, category_tensor, line_tensor = randomTrainingExample()\n",
        "    output = evaluate(line_tensor)\n",
        "    guess, guess_i = categoryFromOutput(output)\n",
        "    category_i = all_categories.index(category)\n",
        "    total += 1\n",
        "    correct += 1 if guess == category else 0\n",
        "    confusion[category_i][guess_i] += 1\n",
        "\n",
        "print(\"correct =\", correct, \"/\", total)\n",
        "print(\"Total words africa:\", len(limited[limited[\"region\"] == \"africa\"]))\n",
        "print(\"Total words asia:\", len(limited[limited[\"region\"] == \"asia\"]))\n",
        "print(\"Total words central america:\", len(limited[limited[\"region\"] == \"central america\"]))\n",
        "print(\"Total words europe:\", len(limited[limited[\"region\"] == \"europe\"]))\n",
        "print(\"Total words middle east:\", len(limited[limited[\"region\"] == \"middle east\"]))\n"
      ]
    },
    {
      "cell_type": "code",
      "execution_count": 172,
      "metadata": {
        "colab": {
          "base_uri": "https://localhost:8080/",
          "height": 625
        },
        "id": "x9bwDToH1aN_",
        "outputId": "5ea7a080-e90d-4002-8a59-52034f4e5e9f"
      },
      "outputs": [
        {
          "output_type": "stream",
          "name": "stderr",
          "text": [
            "<ipython-input-172-6f4f54481151>:12: UserWarning: set_ticklabels() should only be used with a fixed number of ticks, i.e. after set_ticks() or using a FixedLocator.\n",
            "  ax.set_xticklabels([''] + all_categories, rotation=90)\n",
            "<ipython-input-172-6f4f54481151>:13: UserWarning: set_ticklabels() should only be used with a fixed number of ticks, i.e. after set_ticks() or using a FixedLocator.\n",
            "  ax.set_yticklabels([''] + all_categories)\n"
          ]
        },
        {
          "output_type": "display_data",
          "data": {
            "text/plain": [
              "<Figure size 640x480 with 2 Axes>"
            ],
            "image/png": "[encoded data removed]"
          },
          "metadata": {}
        }
      ],
      "source": [
        "\n",
        "# Normalize by dividing every row by its sum\n",
        "for i in range(n_categories):\n",
        "    confusion[i] = confusion[i] / confusion[i].sum()\n",
        "\n",
        "# Set up plot\n",
        "fig = plt.figure()\n",
        "ax = fig.add_subplot(111)\n",
        "cax = ax.matshow(confusion.numpy())\n",
        "fig.colorbar(cax)\n",
        "\n",
        "# Set up axes\n",
        "ax.set_xticklabels([''] + all_categories, rotation=90)\n",
        "ax.set_yticklabels([''] + all_categories)\n",
        "\n",
        "# Force label at every tick\n",
        "ax.xaxis.set_major_locator(ticker.MultipleLocator(1))\n",
        "ax.yaxis.set_major_locator(ticker.MultipleLocator(1))\n",
        "\n",
        "plt.title(\"Predicted term origin region\")\n",
        "\n",
        "# sphinx_gallery_thumbnail_number = 2\n",
        "plt.show()"
      ]
    }
  ],
  "metadata": {
    "colab": {
      "provenance": []
    },
    "kaggle": {
      "accelerator": "none",
      "dataSources": [
        {
          "datasetId": 2367,
          "sourceId": 3976,
          "sourceType": "datasetVersion"
        },
        {
          "datasetId": 2815513,
          "sourceId": 4856880,
          "sourceType": "datasetVersion"
        }
      ],
      "dockerImageVersionId": 30786,
      "isGpuEnabled": false,
      "isInternetEnabled": false,
      "language": "python",
      "sourceType": "notebook"
    },
    "kernelspec": {
      "display_name": "Python 3",
      "language": "python",
      "name": "python3"
    },
    "language_info": {
      "codemirror_mode": {
        "name": "ipython",
        "version": 3
      },
      "file_extension": ".py",
      "mimetype": "text/x-python",
      "name": "python",
      "nbconvert_exporter": "python",
      "pygments_lexer": "ipython3",
      "version": "3.10.14"
    }
  },
  "nbformat": 4,
  "nbformat_minor": 0
}